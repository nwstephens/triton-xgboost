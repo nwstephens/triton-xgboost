{
 "cells": [
  {
   "cell_type": "markdown",
   "metadata": {},
   "source": [
    "# Where to find NVIDIA GPU's\n",
    "\n",
    "GPU's are avaiable in the cloud, in the data center, and for personal computing. The following is a partial list of where GPU's are available.\n",
    "\n",
    "### Cloud service providers\n",
    "1. [AWS](https://aws.amazon.com/) offers \n",
    "2. [Azure](https://docs.microsoft.com/en-us/azure/)\n",
    "3. [GCP](https://cloud.google.com/)\n",
    "\n",
    "### Machine Learning Platforms\n",
    "1. [AWS Sagemaker](https://aws.amazon.com/sagemaker/)\n",
    "2. [AzureML](https://azure.microsoft.com/en-us/services/machine-learning/)\n",
    "3. [Google Colab](https://colab.research.google.com/)\n",
    "\n",
    "### GPU providers\n",
    "1. [Paperspace](https://www.paperspace.com/)\n",
    "\n",
    "### Data centers\n",
    "1. [NVIDIA Launchpad](https://www.nvidia.com/en-us/data-center/launchpad/)\n",
    "\n",
    "### Personal computing\n",
    "1. Workstations\n",
    "2. Laptops"
   ]
  },
  {
   "cell_type": "markdown",
   "metadata": {},
   "source": [
    "## Compute capability\n",
    "\n",
    "The software you run on an NVIDIA GPU requires a certain compute capability. The compute capability can be found [here](https://developer.nvidia.com/cuda-gpus). NVIDIA chip architectures (e.g. Volta, Turing, Ampere, Hopper) have features that are associated to a specific [compute capability](). The software you are running should match the compute capability of the GPU. For example, RAPIDS requires a compute capability greater than 6, which means you should run RAPIDS on a P100, V100, T4, or an Ampere in the data center."
   ]
  },
  {
   "cell_type": "markdown",
   "metadata": {},
   "source": [
    "### NVIDIA Data Center Products\n",
    "\n",
    "GPU\t| Compute Capability\n",
    "----|-------------------\n",
    "NVIDIA A100 | 8.0\n",
    "NVIDIA A40\t| 8.6\n",
    "NVIDIA A30\t| 8.0\n",
    "NVIDIA A10\t| 8.6\n",
    "NVIDIA A16\t| 8.6\n",
    "NVIDIA A2\t| 8.6\n",
    "NVIDIA T4\t| 7.5\n",
    "NVIDIA V100\t| 7.0\n",
    "Tesla P100\t| 6.0\n",
    "\n",
    "### NVIDIA Quadro and NVIDIA RTX Desktop GPUs\n",
    "\n",
    "GPU | Compute Capability\n",
    "----|-------------------\n",
    "RTX A6000\t| 8.6\n",
    "RTX A5000\t| 8.6\n",
    "RTX A4000\t| 8.6\n",
    "T1000\t| 7.5\n",
    "T600\t| 7.5\n",
    "T400\t| 7.5\n",
    "Quadro RTX 8000\t| 7.5\n",
    "Quadro RTX 6000\t| 7.5\n",
    "Quadro RTX 5000\t| 7.5\n",
    "Quadro RTX 4000\t| 7.5\n",
    "Quadro GV100\t| 7.0\n",
    "Quadro GP100\t| 6.0\n",
    "\n",
    "### GeForce Notebook Products\n",
    "\n",
    "GPU | Compute Capability\n",
    "----|-------------------\n",
    "GeForce RTX 3080\t| 8.6\n",
    "GeForce RTX 3070\t| 8.6\n",
    "GeForce RTX 3060\t| 8.6\n",
    "GeForce RTX 3050 Ti\t| 8.6\n",
    "GeForce RTX 3050\t| 8.6\n",
    "Geforce RTX 2080\t| 7.5\n",
    "Geforce RTX 2070\t| 7.5\n",
    "Geforce RTX 2060\t| 7.5\n",
    "GeForce GTX 1080\t| 6.1\n",
    "GeForce GTX 1070\t| 6.1\n",
    "GeForce GTX 1060\t| 6.1"
   ]
  },
  {
   "cell_type": "markdown",
   "metadata": {},
   "source": [
    "### Compute capability prerequisites software\n",
    "\n",
    "* [RAPIDS](https://rapids.ai/start.html) 22.04 requires compute capability 6.0+.\n",
    "* [PyTorch](https://docs.nvidia.com/deeplearning/frameworks/pytorch-release-notes/index.html) 22.03 requires compute capability 6.0+."
   ]
  }
 ],
 "metadata": {
  "language_info": {
   "name": "python"
  },
  "orig_nbformat": 4
 },
 "nbformat": 4,
 "nbformat_minor": 2
}
