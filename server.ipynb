{
 "cells": [
  {
   "cell_type": "markdown",
   "id": "eb240ee6",
   "metadata": {},
   "source": [
    "# Fraud Detection with XGBoost and Triton-FIL\n",
    "\n",
    "## Introduction\n",
    "In this example notebook, we will go step-by-step through the process of training and deploying an XGBoost fraud detection model using Triton's new FIL backend. Along the way, we'll show how to analyze the performance of a model deployed in Triton and optimize its performance based on specific SLA targets or other considerations.\n",
    "\n",
    "## Pre-Requisites\n",
    "This notebook assumes that you have Docker plus a few Python dependencies. To install all of these dependencies in a conda environment, you may make use of the following conda environment file:\n",
    "```yaml\n",
    "---\n",
    "name: triton_example\n",
    "channels:\n",
    "  - conda-forge\n",
    "  - nvidia\n",
    "  - rapidsai\n",
    "dependencies:\n",
    "  - cudatoolkit=11.4\n",
    "  - cudf=21.12\n",
    "  - cuml=21.12\n",
    "  - cupy\n",
    "  - jupyter\n",
    "  - kaggle\n",
    "  - matplotlib\n",
    "  - numpy\n",
    "  - pandas\n",
    "  - pip\n",
    "  - python=3.8\n",
    "  - scikit-learn\n",
    "  - pip:\n",
    "      - tritonclient[all]\n",
    "      - xgboost>=1.5\n",
    "```"
   ]
  },
  {
   "cell_type": "markdown",
   "id": "34f4ae7e",
   "metadata": {},
   "source": [
    "# Building the server\n",
    "\n",
    "These instructions explain how to build configure a GPU server for data science.\n",
    "\n",
    "* GPU should support your compute capabaility\n",
    "* Everything needs to match: Cuda driver version, Container version (release notes), GPU hardware\n",
    "* Cuda toolkit should match your operating system\n",
    "* Container versions should match Cuda toolkit (see release notes for details)"
   ]
  },
  {
   "cell_type": "markdown",
   "id": "7d0a14f3",
   "metadata": {},
   "source": [
    "## Install CUDA toolkit"
   ]
  },
  {
   "cell_type": "code",
   "execution_count": null,
   "id": "124dc721",
   "metadata": {},
   "outputs": [],
   "source": [
    "wget https://developer.download.nvidia.com/compute/cuda/repos/ubuntu2004/x86_64/cuda-ubuntu2004.pin\n",
    "sudo mv cuda-ubuntu2004.pin /etc/apt/preferences.d/cuda-repository-pin-600\n",
    "wget https://developer.download.nvidia.com/compute/cuda/11.6.2/local_installers/cuda-repo-ubuntu2004-11-6-local_11.6.2-510.47.03-1_amd64.deb\n",
    "sudo dpkg -i cuda-repo-ubuntu2004-11-6-local_11.6.2-510.47.03-1_amd64.deb\n",
    "sudo apt-key add /var/cuda-repo-ubuntu2004-11-6-local/7fa2af80.pub\n",
    "sudo apt-get update\n",
    "sudo apt-get -y install cuda"
   ]
  },
  {
   "cell_type": "code",
   "execution_count": null,
   "id": "3f3e9bd5",
   "metadata": {},
   "outputs": [],
   "source": [
    "nvidia-smi"
   ]
  },
  {
   "cell_type": "markdown",
   "id": "86e56e1f",
   "metadata": {},
   "source": [
    "## Set CUDA Home"
   ]
  },
  {
   "cell_type": "code",
   "execution_count": null,
   "id": "c387208d",
   "metadata": {},
   "outputs": [],
   "source": [
    "vim ~/.bashrc\n",
    "export CUDA_HOME=/usr/local/cuda\n",
    "export LD_LIBRARY_PATH=$LD_LIBRARY_PATH:/usr/local/cuda/lib64:/usr/local/cuda/extras/CUPTI/lib64\n",
    "export PATH=$PATH:$CUDA_HOME/bin"
   ]
  },
  {
   "cell_type": "code",
   "execution_count": null,
   "id": "9098a5f5",
   "metadata": {},
   "outputs": [],
   "source": [
    "nvcc --version"
   ]
  },
  {
   "cell_type": "markdown",
   "id": "7aeb61d1",
   "metadata": {},
   "source": [
    "## Install docker toolkit"
   ]
  },
  {
   "cell_type": "code",
   "execution_count": null,
   "id": "26c1fd31",
   "metadata": {},
   "outputs": [],
   "source": [
    "curl https://get.docker.com | sh \\\n",
    "  && sudo systemctl --now enable docker\n",
    "distribution=$(. /etc/os-release;echo $ID$VERSION_ID) \\\n",
    "      && curl -s -L https://nvidia.github.io/libnvidia-container/gpgkey | sudo apt-key add - \\\n",
    "      && curl -s -L https://nvidia.github.io/libnvidia-container/$distribution/libnvidia-container.list | sudo tee /etc/apt/sources.list.d/nvidia-container-toolkit.list\n",
    "sudo apt-get update\n",
    "sudo apt-get install -y nvidia-docker2\n",
    "sudo systemctl restart docker"
   ]
  },
  {
   "cell_type": "code",
   "execution_count": null,
   "id": "561cffe3",
   "metadata": {},
   "outputs": [],
   "source": [
    "test"
   ]
  }
 ],
 "metadata": {
  "kernelspec": {
   "display_name": "Python 3 (ipykernel)",
   "language": "python",
   "name": "python3"
  },
  "language_info": {
   "codemirror_mode": {
    "name": "ipython",
    "version": 3
   },
   "file_extension": ".py",
   "mimetype": "text/x-python",
   "name": "python",
   "nbconvert_exporter": "python",
   "pygments_lexer": "ipython3",
   "version": "3.8.12"
  }
 },
 "nbformat": 4,
 "nbformat_minor": 5
}
