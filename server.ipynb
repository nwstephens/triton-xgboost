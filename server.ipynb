{
 "cells": [
  {
   "cell_type": "markdown",
   "id": "34f4ae7e",
   "metadata": {},
   "source": [
    "# Building the server\n",
    "\n",
    "These instructions explain how to configure a server in preparation for doing data science on a GPU. Please note that the following components should be compatible with each other:\n",
    "\n",
    "1. The GPU compute capability should be compatible with the NGC container your run\n",
    "2. The NGC container you run should be compatible with the CUDA toolkit you run\n",
    "3. The CUDA toolkit you run should be compatible with your operating system\n",
    "\n",
    "If you haven't already, procure a GPU with the required compute capability as described in [Where to find NVIDIA GPU's for data data science]()."
   ]
  },
  {
   "cell_type": "markdown",
   "id": "7d0a14f3",
   "metadata": {},
   "source": [
    "## Install CUDA toolkit"
   ]
  },
  {
   "cell_type": "code",
   "execution_count": null,
   "id": "124dc721",
   "metadata": {},
   "outputs": [],
   "source": [
    "wget https://developer.download.nvidia.com/compute/cuda/repos/ubuntu2004/x86_64/cuda-ubuntu2004.pin\n",
    "sudo mv cuda-ubuntu2004.pin /etc/apt/preferences.d/cuda-repository-pin-600\n",
    "wget https://developer.download.nvidia.com/compute/cuda/11.6.2/local_installers/cuda-repo-ubuntu2004-11-6-local_11.6.2-510.47.03-1_amd64.deb\n",
    "sudo dpkg -i cuda-repo-ubuntu2004-11-6-local_11.6.2-510.47.03-1_amd64.deb\n",
    "sudo apt-key add /var/cuda-repo-ubuntu2004-11-6-local/7fa2af80.pub\n",
    "sudo apt-get update\n",
    "sudo apt-get -y install cuda"
   ]
  },
  {
   "cell_type": "code",
   "execution_count": null,
   "id": "3f3e9bd5",
   "metadata": {},
   "outputs": [],
   "source": [
    "nvidia-smi"
   ]
  },
  {
   "cell_type": "markdown",
   "id": "86e56e1f",
   "metadata": {},
   "source": [
    "## Set CUDA Home"
   ]
  },
  {
   "cell_type": "code",
   "execution_count": null,
   "id": "c387208d",
   "metadata": {},
   "outputs": [],
   "source": [
    "vim ~/.bashrc\n",
    "export CUDA_HOME=/usr/local/cuda\n",
    "export LD_LIBRARY_PATH=$LD_LIBRARY_PATH:/usr/local/cuda/lib64:/usr/local/cuda/extras/CUPTI/lib64\n",
    "export PATH=$PATH:$CUDA_HOME/bin"
   ]
  },
  {
   "cell_type": "code",
   "execution_count": null,
   "id": "9098a5f5",
   "metadata": {},
   "outputs": [],
   "source": [
    "nvcc --version"
   ]
  },
  {
   "cell_type": "markdown",
   "id": "7aeb61d1",
   "metadata": {},
   "source": [
    "## Install docker toolkit"
   ]
  },
  {
   "cell_type": "code",
   "execution_count": null,
   "id": "26c1fd31",
   "metadata": {},
   "outputs": [],
   "source": [
    "curl https://get.docker.com | sh \\\n",
    "  && sudo systemctl --now enable docker\n",
    "distribution=$(. /etc/os-release;echo $ID$VERSION_ID) \\\n",
    "      && curl -s -L https://nvidia.github.io/libnvidia-container/gpgkey | sudo apt-key add - \\\n",
    "      && curl -s -L https://nvidia.github.io/libnvidia-container/$distribution/libnvidia-container.list | sudo tee /etc/apt/sources.list.d/nvidia-container-toolkit.list\n",
    "sudo apt-get update\n",
    "sudo apt-get install -y nvidia-docker2\n",
    "sudo systemctl restart docker"
   ]
  },
  {
   "cell_type": "code",
   "execution_count": null,
   "id": "561cffe3",
   "metadata": {},
   "outputs": [],
   "source": [
    "sudo docker run hello-world"
   ]
  }
 ],
 "metadata": {
  "kernelspec": {
   "display_name": "Python 3 (ipykernel)",
   "language": "python",
   "name": "python3"
  },
  "language_info": {
   "codemirror_mode": {
    "name": "ipython",
    "version": 3
   },
   "file_extension": ".py",
   "mimetype": "text/x-python",
   "name": "python",
   "nbconvert_exporter": "python",
   "pygments_lexer": "ipython3",
   "version": "3.10.4"
  }
 },
 "nbformat": 4,
 "nbformat_minor": 5
}
