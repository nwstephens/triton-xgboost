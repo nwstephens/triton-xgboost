{
 "cells": [
  {
   "cell_type": "markdown",
   "id": "accac3f2",
   "metadata": {},
   "source": [
    "# Configuring the server\n",
    "\n",
    "These instructions explain how to configure a server in preparation for doing data science on a GPU with NGC containers. NVIDIA NGC contains GPU-optimized AI software, enterprise services and support. You can pull containers from the [NGC Catalog](https://catalog.ngc.nvidia.com/) that will help you get started with data science projects. \n",
    "\n",
    "## Getting started\n",
    "\n",
    "All of the software and hardware on your system needs to be compatible. Please note that the following components should be compatible with each other:\n",
    "\n",
    "1. The GPU [compute capability](https://developer.nvidia.com/cuda-gpus) should be compatible with the [NGC container](https://catalog.ngc.nvidia.com/) your run\n",
    "2. The [NGC container](https://catalog.ngc.nvidia.com/) you run should be compatible with the [(CUDA toolkit](https://developer.nvidia.com/cuda-downloads) you run\n",
    "3. The [CUDA toolkit](https://developer.nvidia.com/cuda-downloads) you run should be compatible with your operating system\n",
    "\n",
    "If you haven't already, procure a GPU with the required compute capability as described in [Where to find NVIDIA GPU's for data data science]()."
   ]
  },
  {
   "cell_type": "markdown",
   "id": "70acad17",
   "metadata": {},
   "source": [
    "## Install CUDA toolkit"
   ]
  },
  {
   "cell_type": "code",
   "execution_count": null,
   "id": "dbaec59f",
   "metadata": {},
   "outputs": [],
   "source": [
    "wget https://developer.download.nvidia.com/compute/cuda/repos/ubuntu2004/x86_64/cuda-ubuntu2004.pin\n",
    "sudo mv cuda-ubuntu2004.pin /etc/apt/preferences.d/cuda-repository-pin-600\n",
    "wget https://developer.download.nvidia.com/compute/cuda/11.6.2/local_installers/cuda-repo-ubuntu2004-11-6-local_11.6.2-510.47.03-1_amd64.deb\n",
    "sudo dpkg -i cuda-repo-ubuntu2004-11-6-local_11.6.2-510.47.03-1_amd64.deb\n",
    "sudo apt-key add /var/cuda-repo-ubuntu2004-11-6-local/7fa2af80.pub\n",
    "sudo apt-get update\n",
    "sudo apt-get -y install cuda"
   ]
  },
  {
   "cell_type": "code",
   "execution_count": 1,
   "id": "b507ee2d",
   "metadata": {},
   "outputs": [
    {
     "name": "stdout",
     "output_type": "stream",
     "text": [
      "Tue Apr 12 04:29:59 2022       \n",
      "+-----------------------------------------------------------------------------+\n",
      "| NVIDIA-SMI 510.47.03    Driver Version: 510.47.03    CUDA Version: 11.6     |\n",
      "|-------------------------------+----------------------+----------------------+\n",
      "| GPU  Name        Persistence-M| Bus-Id        Disp.A | Volatile Uncorr. ECC |\n",
      "| Fan  Temp  Perf  Pwr:Usage/Cap|         Memory-Usage | GPU-Util  Compute M. |\n",
      "|                               |                      |               MIG M. |\n",
      "|===============================+======================+======================|\n",
      "|   0  Tesla P100-PCIE...  On   | 00000001:00:00.0 Off |                  Off |\n",
      "| N/A   33C    P0    31W / 250W |    424MiB / 16384MiB |      0%      Default |\n",
      "|                               |                      |                  N/A |\n",
      "+-------------------------------+----------------------+----------------------+\n",
      "                                                                               \n",
      "+-----------------------------------------------------------------------------+\n",
      "| Processes:                                                                  |\n",
      "|  GPU   GI   CI        PID   Type   Process name                  GPU Memory |\n",
      "|        ID   ID                                                   Usage      |\n",
      "|=============================================================================|\n",
      "|    0   N/A  N/A      1080      G                                      95MiB |\n",
      "|    0   N/A  N/A      1453      G                                       9MiB |\n",
      "|    0   N/A  N/A      2949      C                                     317MiB |\n",
      "+-----------------------------------------------------------------------------+\n"
     ]
    }
   ],
   "source": [
    "nvidia-smi"
   ]
  },
  {
   "cell_type": "markdown",
   "id": "407055f7",
   "metadata": {},
   "source": [
    "## Set CUDA Home"
   ]
  },
  {
   "cell_type": "code",
   "execution_count": null,
   "id": "5a832db8",
   "metadata": {},
   "outputs": [],
   "source": [
    "vim ~/.bashrc\n",
    "export CUDA_HOME=/usr/local/cuda\n",
    "export LD_LIBRARY_PATH=$LD_LIBRARY_PATH:/usr/local/cuda/lib64:/usr/local/cuda/extras/CUPTI/lib64\n",
    "export PATH=$PATH:$CUDA_HOME/bin"
   ]
  },
  {
   "cell_type": "code",
   "execution_count": 2,
   "id": "ffdde450",
   "metadata": {},
   "outputs": [
    {
     "name": "stdout",
     "output_type": "stream",
     "text": [
      "nvcc: NVIDIA (R) Cuda compiler driver\n",
      "Copyright (c) 2005-2022 NVIDIA Corporation\n",
      "Built on Thu_Feb_10_18:23:41_PST_2022\n",
      "Cuda compilation tools, release 11.6, V11.6.112\n",
      "Build cuda_11.6.r11.6/compiler.30978841_0\n"
     ]
    }
   ],
   "source": [
    "nvcc --version"
   ]
  },
  {
   "cell_type": "markdown",
   "id": "195b7bb8",
   "metadata": {},
   "source": [
    "## Install docker toolkit"
   ]
  },
  {
   "cell_type": "code",
   "execution_count": null,
   "id": "0fd1e54e",
   "metadata": {},
   "outputs": [],
   "source": [
    "curl https://get.docker.com | sh \\\n",
    "  && sudo systemctl --now enable docker\n",
    "distribution=$(. /etc/os-release;echo $ID$VERSION_ID) \\\n",
    "      && curl -s -L https://nvidia.github.io/libnvidia-container/gpgkey | sudo apt-key add - \\\n",
    "      && curl -s -L https://nvidia.github.io/libnvidia-container/$distribution/libnvidia-container.list | sudo tee /etc/apt/sources.list.d/nvidia-container-toolkit.list\n",
    "sudo apt-get update\n",
    "sudo apt-get install -y nvidia-docker2\n",
    "sudo systemctl restart docker"
   ]
  },
  {
   "cell_type": "code",
   "execution_count": null,
   "id": "c2bd78fa",
   "metadata": {},
   "outputs": [],
   "source": [
    "sudo docker run hello-world"
   ]
  }
 ],
 "metadata": {
  "kernelspec": {
   "display_name": "Python 3 (ipykernel)",
   "language": "python",
   "name": "python3"
  },
  "language_info": {
   "codemirror_mode": {
    "name": "ipython",
    "version": 3
   },
   "file_extension": ".py",
   "mimetype": "text/x-python",
   "name": "python",
   "nbconvert_exporter": "python",
   "pygments_lexer": "ipython3",
   "version": "3.8.12"
  }
 },
 "nbformat": 4,
 "nbformat_minor": 5
}
